{
 "cells": [
  {
   "cell_type": "code",
   "execution_count": null,
   "id": "77ca3882-354c-4166-ab1e-025dffbd1c2d",
   "metadata": {},
   "outputs": [
    {
     "name": "stdout",
     "output_type": "stream",
     "text": [
      "Hello! I am CodSoftBot. Ask me anything, or type 'bye' to exit.\n"
     ]
    }
   ],
   "source": [
    "# Task 1: Smarter Rule-Based Chatbot with NLP\n",
    "\n",
    "from sklearn.feature_extraction.text import TfidfVectorizer\n",
    "from sklearn.metrics.pairwise import cosine_similarity\n",
    "\n",
    "responses = {\n",
    "    \"hello\": \"Hi there! How can I help you today?\",\n",
    "    \"how are you\": \"I'm just a program, but I'm functioning perfectly!\",\n",
    "    \"what is your name\": \"I'm CodSoftBot, your AI assistant!\",\n",
    "    \"bye\": \"Goodbye! Have a great day!\",\n",
    "    \"what can you do\": \"I can chat with you and make simple conversations!\"\n",
    "}\n",
    "\n",
    "# Prepare the corpus\n",
    "corpus = list(responses.keys())\n",
    "vectorizer = TfidfVectorizer()\n",
    "X = vectorizer.fit_transform(corpus)\n",
    "\n",
    "def smart_chatbot():\n",
    "    print(\"Hello! I am CodSoftBot. Ask me anything, or type 'bye' to exit.\")\n",
    "    while True:\n",
    "        user_input = input(\"You: \").lower().strip()\n",
    "        if user_input == 'bye':\n",
    "            print(\"Bot: Goodbye! Have a great day!\")\n",
    "            break\n",
    "        user_vec = vectorizer.transform([user_input])\n",
    "        sim_scores = cosine_similarity(user_vec, X)\n",
    "        best_match = sim_scores.argmax()\n",
    "        if sim_scores[0][best_match] > 0.3:\n",
    "            response_key = corpus[best_match]\n",
    "            print(\"Bot:\", responses[response_key])\n",
    "        else:\n",
    "            print(\"Bot: I'm not sure how to respond to that.\")\n",
    "\n",
    "# Uncomment the next line to run the improved chatbot\n",
    "smart_chatbot()"
   ]
  },
  {
   "cell_type": "code",
   "execution_count": null,
   "id": "a0af0a57-6b1f-41d1-8dea-3d520a304307",
   "metadata": {},
   "outputs": [],
   "source": []
  }
 ],
 "metadata": {
  "kernelspec": {
   "display_name": "Python 3 (ipykernel)",
   "language": "python",
   "name": "python3"
  },
  "language_info": {
   "codemirror_mode": {
    "name": "ipython",
    "version": 3
   },
   "file_extension": ".py",
   "mimetype": "text/x-python",
   "name": "python",
   "nbconvert_exporter": "python",
   "pygments_lexer": "ipython3",
   "version": "3.11.0"
  }
 },
 "nbformat": 4,
 "nbformat_minor": 5
}
