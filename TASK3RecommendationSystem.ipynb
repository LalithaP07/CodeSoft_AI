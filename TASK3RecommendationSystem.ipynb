{
 "cells": [
  {
   "cell_type": "code",
   "execution_count": 1,
   "id": "1482f811-0260-40b3-840f-9a7ac4f1ff75",
   "metadata": {},
   "outputs": [
    {
     "name": "stdout",
     "output_type": "stream",
     "text": [
      "Recommendations for 'Inception':\n",
      "4            Memento\n",
      "1    The Dark Knight\n",
      "2       Interstellar\n",
      "Name: title, dtype: object\n"
     ]
    }
   ],
   "source": [
    "# Task 3: Recommendation System (Simple Content-Based)\n",
    "\n",
    "from sklearn.feature_extraction.text import TfidfVectorizer\n",
    "from sklearn.metrics.pairwise import cosine_similarity\n",
    "import pandas as pd\n",
    "\n",
    "def recommend_movies():\n",
    "    movies = pd.DataFrame({\n",
    "        'title': ['Inception', 'The Dark Knight', 'Interstellar', 'The Prestige', 'Memento'],\n",
    "        'description': [\n",
    "            'dreams mind-bending thriller',\n",
    "            'vigilante hero dark action',\n",
    "            'space time gravity adventure',\n",
    "            'magic rivalry twist',\n",
    "            'memory loss thriller puzzle'\n",
    "        ]\n",
    "    })\n",
    "\n",
    "    tfidf = TfidfVectorizer()\n",
    "    tfidf_matrix = tfidf.fit_transform(movies['description'])\n",
    "    cosine_sim = cosine_similarity(tfidf_matrix, tfidf_matrix)\n",
    "\n",
    "    def get_recommendations(title):\n",
    "        idx = movies[movies['title'] == title].index[0]\n",
    "        sim_scores = list(enumerate(cosine_sim[idx]))\n",
    "        sim_scores = sorted(sim_scores, key=lambda x: x[1], reverse=True)[1:4]\n",
    "        movie_indices = [i[0] for i in sim_scores]\n",
    "        return movies['title'].iloc[movie_indices]\n",
    "\n",
    "    print(\"Recommendations for 'Inception':\")\n",
    "    print(get_recommendations('Inception'))\n",
    "\n",
    "# Uncomment to get recommendations\n",
    "recommend_movies()"
   ]
  },
  {
   "cell_type": "code",
   "execution_count": null,
   "id": "60d51dc5-c0ca-49af-b136-b177c1ef118b",
   "metadata": {},
   "outputs": [],
   "source": []
  }
 ],
 "metadata": {
  "kernelspec": {
   "display_name": "Python 3 (ipykernel)",
   "language": "python",
   "name": "python3"
  },
  "language_info": {
   "codemirror_mode": {
    "name": "ipython",
    "version": 3
   },
   "file_extension": ".py",
   "mimetype": "text/x-python",
   "name": "python",
   "nbconvert_exporter": "python",
   "pygments_lexer": "ipython3",
   "version": "3.11.0"
  }
 },
 "nbformat": 4,
 "nbformat_minor": 5
}
