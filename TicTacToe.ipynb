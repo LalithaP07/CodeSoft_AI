{
 "cells": [
  {
   "cell_type": "code",
   "execution_count": 1,
   "id": "7c9a920a-c1ac-4b15-bdf4-7704ac1fe561",
   "metadata": {},
   "outputs": [
    {
     "name": "stdout",
     "output_type": "stream",
     "text": [
      "  |   |  \n",
      "-----\n",
      "  |   |  \n",
      "-----\n",
      "  |   |  \n",
      "-----\n"
     ]
    },
    {
     "name": "stdin",
     "output_type": "stream",
     "text": [
      "Enter your row (0-2):  2\n",
      "Enter your column (0-2):  1\n"
     ]
    },
    {
     "name": "stdout",
     "output_type": "stream",
     "text": [
      "  | O |  \n",
      "-----\n",
      "  |   |  \n",
      "-----\n",
      "  | X |  \n",
      "-----\n"
     ]
    },
    {
     "name": "stdin",
     "output_type": "stream",
     "text": [
      "Enter your row (0-2):  2\n",
      "Enter your column (0-2):  2\n"
     ]
    },
    {
     "name": "stdout",
     "output_type": "stream",
     "text": [
      "  | O |  \n",
      "-----\n",
      "  |   |  \n",
      "-----\n",
      "O | X | X\n",
      "-----\n"
     ]
    },
    {
     "name": "stdin",
     "output_type": "stream",
     "text": [
      "Enter your row (0-2):  1\n",
      "Enter your column (0-2):  2\n"
     ]
    },
    {
     "name": "stdout",
     "output_type": "stream",
     "text": [
      "  | O | O\n",
      "-----\n",
      "  |   | X\n",
      "-----\n",
      "O | X | X\n",
      "-----\n"
     ]
    },
    {
     "name": "stdin",
     "output_type": "stream",
     "text": [
      "Enter your row (0-2):  1\n",
      "Enter your column (0-2):  1\n"
     ]
    },
    {
     "name": "stdout",
     "output_type": "stream",
     "text": [
      "O | O | O\n",
      "-----\n",
      "  | X | X\n",
      "-----\n",
      "O | X | X\n",
      "-----\n",
      "Winner is O!\n"
     ]
    }
   ],
   "source": [
    "# Task 2: Tic-Tac-Toe AI with Minimax\n",
    "\n",
    "def print_board(board):\n",
    "    for row in board:\n",
    "        print(\" | \".join(row))\n",
    "        print(\"-\" * 5)\n",
    "\n",
    "def check_winner(board):\n",
    "    lines = board + [list(x) for x in zip(*board)] + [[board[i][i] for i in range(3)], [board[i][2 - i] for i in range(3)]]\n",
    "    for line in lines:\n",
    "        if line.count(line[0]) == 3 and line[0] != \" \":\n",
    "            return line[0]\n",
    "    return None\n",
    "\n",
    "def minimax(board, depth, is_max):\n",
    "    winner = check_winner(board)\n",
    "    if winner == 'O': return 1\n",
    "    if winner == 'X': return -1\n",
    "    if all(cell != ' ' for row in board for cell in row): return 0\n",
    "\n",
    "    if is_max:\n",
    "        best = -float('inf')\n",
    "        for i in range(3):\n",
    "            for j in range(3):\n",
    "                if board[i][j] == ' ':\n",
    "                    board[i][j] = 'O'\n",
    "                    best = max(best, minimax(board, depth + 1, False))\n",
    "                    board[i][j] = ' '\n",
    "        return best\n",
    "    else:\n",
    "        best = float('inf')\n",
    "        for i in range(3):\n",
    "            for j in range(3):\n",
    "                if board[i][j] == ' ':\n",
    "                    board[i][j] = 'X'\n",
    "                    best = min(best, minimax(board, depth + 1, True))\n",
    "                    board[i][j] = ' '\n",
    "        return best\n",
    "\n",
    "def find_best_move(board):\n",
    "    best_val = -float('inf')\n",
    "    move = (-1, -1)\n",
    "    for i in range(3):\n",
    "        for j in range(3):\n",
    "            if board[i][j] == ' ':\n",
    "                board[i][j] = 'O'\n",
    "                move_val = minimax(board, 0, False)\n",
    "                board[i][j] = ' '\n",
    "                if move_val > best_val:\n",
    "                    move = (i, j)\n",
    "                    best_val = move_val\n",
    "    return move\n",
    "\n",
    "def play_game():\n",
    "    board = [[' ' for _ in range(3)] for _ in range(3)]\n",
    "    print_board(board)\n",
    "\n",
    "    while True:\n",
    "        row = int(input(\"Enter your row (0-2): \"))\n",
    "        col = int(input(\"Enter your column (0-2): \"))\n",
    "        if board[row][col] == ' ':\n",
    "            board[row][col] = 'X'\n",
    "        else:\n",
    "            print(\"Cell already taken!\")\n",
    "            continue\n",
    "\n",
    "        winner = check_winner(board)\n",
    "        if winner:\n",
    "            print_board(board)\n",
    "            print(f\"Winner is {winner}!\")\n",
    "            break\n",
    "\n",
    "        if all(cell != ' ' for row in board for cell in row):\n",
    "            print(\"It's a draw!\")\n",
    "            break\n",
    "\n",
    "        ai_move = find_best_move(board)\n",
    "        board[ai_move[0]][ai_move[1]] = 'O'\n",
    "        print_board(board)\n",
    "        winner = check_winner(board)\n",
    "        if winner:\n",
    "            print(f\"Winner is {winner}!\")\n",
    "            break\n",
    "\n",
    "# Uncomment to play\n",
    "play_game()"
   ]
  },
  {
   "cell_type": "code",
   "execution_count": null,
   "id": "a840fbe1-8d4a-4922-8b72-6f0a0cf3e000",
   "metadata": {},
   "outputs": [],
   "source": []
  }
 ],
 "metadata": {
  "kernelspec": {
   "display_name": "Python 3 (ipykernel)",
   "language": "python",
   "name": "python3"
  },
  "language_info": {
   "codemirror_mode": {
    "name": "ipython",
    "version": 3
   },
   "file_extension": ".py",
   "mimetype": "text/x-python",
   "name": "python",
   "nbconvert_exporter": "python",
   "pygments_lexer": "ipython3",
   "version": "3.11.0"
  }
 },
 "nbformat": 4,
 "nbformat_minor": 5
}
